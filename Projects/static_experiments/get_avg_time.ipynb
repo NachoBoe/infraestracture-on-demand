{
 "cells": [
  {
   "cell_type": "code",
   "execution_count": 7,
   "metadata": {},
   "outputs": [
    {
     "name": "stdout",
     "output_type": "stream",
     "text": [
      "Number of Agents: 2 \n",
      "Number of Experints: 50 \n",
      "Time: 0.004959999583661556 +- 0.0014961283886805177 \n",
      "Time per iteration: 0.0004959999350830913 +- 0.000149612853419967\n"
     ]
    }
   ],
   "source": [
    "import numpy as np\n",
    "import matplotlib.pyplot as plt\n",
    "import os\n",
    "\n",
    "nmbr_TA = 2\n",
    "nmbr_NA = 1\n",
    "\n",
    "not_finished = os.path.isfile(f'data/{nmbr_TA}TA{nmbr_NA}NA/experiment_{0}/iterations_data.txt')\n",
    "times = []\n",
    "\n",
    "for n_exp in range(50):\n",
    "    path_to_experiment = f'data/{nmbr_TA}TA{nmbr_NA}NA/experiment_{n_exp}'\n",
    "    times.append(np.loadtxt(path_to_experiment + \"/iterations_data.txt\",delimiter=\",\", dtype=np.float32))\n",
    "    perf = np.loadtxt(path_to_experiment + \"/performance.txt\",delimiter=\",\", dtype=np.float32)\n",
    "    not_finished = os.path.isfile(f'data/{nmbr_TA}TA{nmbr_NA}NA/experiment_{n_exp}/iterations_data.txt') & os.path.isfile(f'data/{nmbr_TA}TA{nmbr_NA}NA/experiment_{n_exp}/performance.txt')\n",
    "\n",
    "times = np.array(times)/1000\n",
    "avg_time = times/10\n",
    "str = f'Number of Agents: {nmbr_TA} \\nNumber of Experints: {50} \\nTime: {np.mean(times)} +- {np.std(times)} \\nTime per iteration: {np.mean(avg_time)} +- {np.std(avg_time)}'\n",
    "print(str)\n",
    "with open(f'data/{nmbr_TA}TA{nmbr_NA}NA/data_experiments.txt', 'w') as f:\n",
    "    f.write(str)\n"
   ]
  }
 ],
 "metadata": {
  "kernelspec": {
   "display_name": "Python 3",
   "language": "python",
   "name": "python3"
  },
  "language_info": {
   "codemirror_mode": {
    "name": "ipython",
    "version": 3
   },
   "file_extension": ".py",
   "mimetype": "text/x-python",
   "name": "python",
   "nbconvert_exporter": "python",
   "pygments_lexer": "ipython3",
   "version": "3.8.10"
  },
  "orig_nbformat": 4
 },
 "nbformat": 4,
 "nbformat_minor": 2
}
